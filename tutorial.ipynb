{
 "cells": [
  {
   "attachments": {},
   "cell_type": "markdown",
   "metadata": {},
   "source": [
    "# Stochastic Optimization for Spectral Risk Measures\n",
    "\n",
    "In this demo, we show how to train linear models using spectral/$L$-risk objectives."
   ]
  },
  {
   "cell_type": "code",
   "execution_count": 1,
   "metadata": {},
   "outputs": [],
   "source": [
    "import matplotlib.pyplot as plt\n",
    "import seaborn as sns\n",
    "import numpy as np\n",
    "\n",
    "from src.utils.data import load_dataset\n",
    "from src.optim.objective import ORMObjective, get_extremile_weights\n",
    "from src.optim.algorithms import LSVRG"
   ]
  },
  {
   "attachments": {},
   "cell_type": "markdown",
   "metadata": {},
   "source": [
    "The fundamental objects needed are an `ORMObjective` (which depends on data, choice of loss, and a spectrum), as well as an `Optimizer`. We construct the former."
   ]
  },
  {
   "cell_type": "code",
   "execution_count": 2,
   "metadata": {},
   "outputs": [],
   "source": [
    "# Example: extremile with risk parameters r = 3 and l2 regularization 1/n.\n",
    "l2_reg = 1.0\n",
    "X_train, y_train, X_val, y_val = load_dataset(\"yacht\")\n",
    "train_objective = ORMObjective(\n",
    "    X_train, \n",
    "    y_train, \n",
    "    weight_function=lambda n: get_extremile_weights(n, 2.0), \n",
    "    loss=\"squared_error\", \n",
    "    l2_reg=l2_reg\n",
    ")\n",
    "val_objective = ORMObjective(\n",
    "    X_val, \n",
    "    y_val, \n",
    "    weight_function=lambda n: get_extremile_weights(n, 2.0), \n",
    "    loss=\"squared_error\"\n",
    ")"
   ]
  },
  {
   "attachments": {},
   "cell_type": "markdown",
   "metadata": {},
   "source": [
    "We then define the LSVRG optimizer and train a prediction model on these objectives."
   ]
  },
  {
   "cell_type": "code",
   "execution_count": 3,
   "metadata": {},
   "outputs": [],
   "source": []
  },
  {
   "cell_type": "code",
   "execution_count": 15,
   "metadata": {},
   "outputs": [],
   "source": [
    "n_epochs = 20\n",
    "lr = 0.001\n",
    "\n",
    "optimizer = LSVRG(train_objective, lr=lr, epoch_len=None)\n",
    "\n",
    "train_losses = []\n",
    "val_losses = []\n",
    "epoch_len = optimizer.get_epoch_len()\n",
    "for epoch in range(n_epochs):\n",
    "\n",
    "    optimizer.start_epoch()\n",
    "    for _ in range(epoch_len):\n",
    "        optimizer.step()\n",
    "    optimizer.end_epoch()\n",
    "\n",
    "    train_losses.append(train_objective.get_batch_loss(optimizer.weights).item())\n",
    "    val_losses.append(val_objective.get_batch_loss(optimizer.weights).item())"
   ]
  },
  {
   "attachments": {},
   "cell_type": "markdown",
   "metadata": {},
   "source": [
    "Plot the train and validation loss of the optimizer."
   ]
  },
  {
   "cell_type": "code",
   "execution_count": 16,
   "metadata": {},
   "outputs": [
    {
     "data": {
      "image/png": "[encoded data removed]",
      "text/plain": [
       "<Figure size 360x360 with 1 Axes>"
      ]
     },
     "metadata": {
      "needs_background": "light"
     },
     "output_type": "display_data"
    }
   ],
   "source": [
    "fig, ax = plt.subplots(1, 1, figsize=(5, 5))\n",
    "\n",
    "x = np.arange(len(train_losses))\n",
    "ax.plot(x, train_losses, color=\"tab:red\", linewidth=2, label=r\"Train Loss (with $\\ell^2$ reg.)\")\n",
    "ax.plot(x, val_losses, color=\"tab:blue\", linewidth=2, label = \"Validation Loss\")\n",
    "ax.legend()\n",
    "ax.set_xticks(2 * np.arange(10))\n",
    "plt.show()"
   ]
  },
  {
   "cell_type": "code",
   "execution_count": null,
   "metadata": {},
   "outputs": [],
   "source": []
  }
 ],
 "metadata": {
  "kernelspec": {
   "display_name": "extr",
   "language": "python",
   "name": "python3"
  },
  "language_info": {
   "codemirror_mode": {
    "name": "ipython",
    "version": 3
   },
   "file_extension": ".py",
   "mimetype": "text/x-python",
   "name": "python",
   "nbconvert_exporter": "python",
   "pygments_lexer": "ipython3",
   "version": "3.8.12"
  },
  "orig_nbformat": 4,
  "vscode": {
   "interpreter": {
    "hash": "e72211728e77ee81aeba4e3ec694b1975ceef616aa15e65efa022da012bf12b5"
   }
  }
 },
 "nbformat": 4,
 "nbformat_minor": 2
}
